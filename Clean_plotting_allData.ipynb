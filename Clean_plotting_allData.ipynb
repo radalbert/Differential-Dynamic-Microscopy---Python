{
 "cells": [
  {
   "cell_type": "code",
   "execution_count": 3,
   "metadata": {},
   "outputs": [
    {
     "name": "stderr",
     "output_type": "stream",
     "text": [
      "C:\\Users\\devyn\\Anaconda2\\lib\\site-packages\\IPython\\html.py:14: ShimWarning: The `IPython.html` package has been deprecated since IPython 4.0. You should import from `notebook` instead. `IPython.html.widgets` has moved to `ipywidgets`.\n",
      "  \"`IPython.html.widgets` has moved to `ipywidgets`.\", ShimWarning)\n",
      "tiff_file.py:1995: UserWarning: failed to import _tifffile.decodepackbits\n",
      "  warnings.warn(\"failed to import %s\" % module_function)\n",
      "tiff_file.py:1995: UserWarning: failed to import _tifffile.decodelzw\n",
      "  warnings.warn(\"failed to import %s\" % module_function)\n",
      "tiff_file.py:1995: UserWarning: failed to import _tifffile.unpackints\n",
      "  warnings.warn(\"failed to import %s\" % module_function)\n"
     ]
    }
   ],
   "source": [
    "#Import all of the necessary packages\n",
    "import numpy as np\n",
    "import matplotlib\n",
    "import matplotlib.pyplot as plt\n",
    "from IPython.html.widgets import interact, fixed\n",
    "import ipywidgets as widgets\n",
    "\n",
    "import io\n",
    "\n",
    "font_plt = {'family': 'serif',\n",
    "            'color':  'darkred',\n",
    "            'weight': 'normal',\n",
    "            'size': 10,\n",
    "            }\n",
    "font_plt_ax = {'family': 'serif',\n",
    "               'color':  'black',\n",
    "               'weight': 'normal',\n",
    "               'size': 10,\n",
    "              }\n",
    "import sys\n",
    "import glob #glob is helpful for searching for filenames or directories\n",
    "import ddm_clean as ddm #this is the module containing the differential dynamic microscopy code\n",
    "import scipy #scientific python\n",
    "from scipy.signal import blackmanharris as bh #for Blackman-Harris windowing\n",
    "import pickle #for saving data\n",
    "\n",
    "import mpld3"
   ]
  },
  {
   "cell_type": "code",
   "execution_count": 4,
   "metadata": {},
   "outputs": [],
   "source": [
    "dts = ddm.genLogDist(1,2998,400)\n",
    "dts2 = ddm.genLogDist(1,998,400)"
   ]
  },
  {
   "cell_type": "code",
   "execution_count": 5,
   "metadata": {},
   "outputs": [],
   "source": [
    "Sample = ['allResults_0.02mgmlDNA_ActinNetwork_29fps_34exp_256x256', 'allResults_0.02mgmlDNA_ActinNetwork_29fps_34exp_2_256x256']"
   ]
  },
  {
   "cell_type": "code",
   "execution_count": 6,
   "metadata": {},
   "outputs": [],
   "source": [
    "newt = lambda t,s: (1./s)*gamma(1./s)*t\n",
    "px = 0.196\n",
    "imDimension = 128\n",
    "q = np.arange(0,imDimension/2)*2*np.pi*(1./(imDimension*px))\n",
    "imDimension2 = 256\n",
    "q2 = np.arange(0,imDimension2/2)*2*np.pi*(1./(imDimension2*px))"
   ]
  },
  {
   "cell_type": "code",
   "execution_count": 7,
   "metadata": {},
   "outputs": [],
   "source": [
    "#Load in the allResults file  \n",
    "dat = \"E:\\\\AllData_Results\\\\\"\n",
    "datF = \"AllResults_better.p\"\n",
    "Round2_Results = pickle.load(open(dat + datF,'rb'))"
   ]
  },
  {
   "cell_type": "code",
   "execution_count": 48,
   "metadata": {},
   "outputs": [],
   "source": [
    "def DiffCoef (newtau_average, qrange, qmin, qmax):\n",
    "    nt = newtau_average\n",
    "    indx = (qrange>qmin) & (qrange<qmax)\n",
    "    ds = (qrange[indx]**-2.0) / nt[indx]\n",
    "    return ds.mean(), indx\n",
    "\n",
    "def plot_results( qmin = q[2], qmax = q[10]):\n",
    "    taus = tauB[chg,1:-1]\n",
    "    b = np.where((q>=qmin)&(q<=qmax))\n",
    "    a = np.polyfit( np.log(q[b[0]]),np.log(tauB[0,b[0]]), 1)\n",
    "    slope = a[0]\n",
    "    coef1 = np.exp(a[1])\n",
    "    Dif = (1/coef1)\n",
    "    alpha = 2./(-1*slope)\n",
    "    #ifDifff = DiffCoef(taus,b[0],qmin,qmax)\n",
    "    fig,ax = plt.subplots(figsize=(8,8/1.618))\n",
    "    ax.loglog(q[1:-2], taus, 'ro')\n",
    "    ax.loglog(q[1:-2], coef1*(q[1:-2])**slope, '-k')\n",
    "    #ax.plot(q[1:-2], (1./ifDiff[0]) * 1./(q[1:-2]**2.0), '--k')\n",
    "    ax.loglog(q[b[0]],tauB[0,b[0]],'b.')\n",
    "    ax.text(0.55,0.8,'D = %.3f' %Dif, \n",
    "        fontdict=font_plt,horizontalalignment='left', \n",
    "        verticalalignment='center', transform=ax.transAxes)\n",
    "    ax.text(0.55,0.66,'slope = %.2f' %alpha, \n",
    "        fontdict=font_plt,horizontalalignment='left', \n",
    "        verticalalignment='center', transform=ax.transAxes)\n",
    "    ax.set_ylabel(\" Tau\", fontdict=font_plt_ax)"
   ]
  },
  {
   "cell_type": "code",
   "execution_count": 49,
   "metadata": {},
   "outputs": [],
   "source": [
    "tauB = Round2_Results['allTaus_Buffer']"
   ]
  },
  {
   "cell_type": "code",
   "execution_count": 50,
   "metadata": {},
   "outputs": [
    {
     "data": {
      "application/vnd.jupyter.widget-view+json": {
       "model_id": "968ca01ed4444931ac2584bb1b570f33",
       "version_major": 2,
       "version_minor": 0
      },
      "text/plain": [
       "aW50ZXJhY3RpdmUoY2hpbGRyZW49KEZsb2F0U2xpZGVyKHZhbHVlPTAuNTAwODkxNjg1ODQwMjA5NCwgZGVzY3JpcHRpb249dSdxbWluJywgbWF4PTEuMjUyMjI5MjE0NjAwNTIzNCwgbWluPTDigKY=\n"
      ]
     },
     "metadata": {},
     "output_type": "display_data"
    },
    {
     "data": {
      "text/plain": [
       "<function __main__.plot_results>"
      ]
     },
     "execution_count": 50,
     "metadata": {},
     "output_type": "execute_result"
    }
   ],
   "source": [
    "%matplotlib inline\n",
    "mpld3.enable_notebook()\n",
    "chg = 0\n",
    "interact(plot_results, qmin = (q[1],q[5]), qmax = (q[4],q[10]), continuous_update=False)"
   ]
  },
  {
   "cell_type": "code",
   "execution_count": 51,
   "metadata": {},
   "outputs": [
    {
     "data": {
      "text/plain": [
       "0.6779661016949152"
      ]
     },
     "execution_count": 51,
     "metadata": {},
     "output_type": "execute_result"
    }
   ],
   "source": [
    "2/2.95"
   ]
  },
  {
   "cell_type": "code",
   "execution_count": null,
   "metadata": {
    "collapsed": true
   },
   "outputs": [],
   "source": [
    "%matplotlib inline\n",
    "mpld3.enable_notebook()\n",
    "\n",
    "a = ['Dilute','MT','Actin','Copoly']\n",
    "cc = ['ro', 'bo','go','mo']\n",
    "diffusionCo = [0.309,0.039,0.0037,0.0031]\n",
    "\n",
    "\n",
    "fig,ax = plt.subplots(figsize=(8,8/1.618))\n",
    "for i in range(4):\n",
    "    taus = Ana_data[a[i]+'_average_newtau']\n",
    "    ax.loglog(taus,(2*np.pi)/q[3:-1],  cc[i])\n",
    "ax.set_ylim(1.0,11)\n",
    "#plt.savefig('E:\\\\AllData_Results\\\\AllConditions.svg')\n",
    "\n",
    "    #ax.plot((1./diffusionCo[i]) * 1./(q[5:-42]**slope[i]), (2*np.pi)/q[5:-42],  '-k')\n",
    "\n",
    "\n",
    "for i in range(4):\n",
    "    fig,ax = plt.subplots(figsize=(8,8/1.618))\n",
    "    taus = Ana_data[a[i]+'_average_newtau']\n",
    "    ax.loglog(taus,(2*np.pi)/q[3:-1],  cc[i])\n",
    "    ax.plot((1./0.1) * 1./(q[2:-42]**2.0), (2*np.pi)/q[2:-42],  '-k')\n",
    "    ax.set_ylim(1.0,11)\n",
    "    #plt.savefig('E:\\\\AllData_Results\\\\'+a[i]+'Condition.svg')\n",
    "    \n",
    "    #ax.errorbar(q[3:-30],taus[:-29],yerr=taustd[:-29],fmt=cc[i], elinewidth = 1.3, capsize=2)"
   ]
  }
 ],
 "metadata": {
  "kernelspec": {
   "display_name": "Python 2",
   "language": "python",
   "name": "python2"
  },
  "language_info": {
   "codemirror_mode": {
    "name": "ipython",
    "version": 2
   },
   "file_extension": ".py",
   "mimetype": "text/x-python",
   "name": "python",
   "nbconvert_exporter": "python",
   "pygments_lexer": "ipython2",
   "version": "2.7.15"
  }
 },
 "nbformat": 4,
 "nbformat_minor": 2
}
