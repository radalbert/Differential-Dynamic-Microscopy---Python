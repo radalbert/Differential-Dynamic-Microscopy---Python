{
 "cells": [
  {
   "cell_type": "markdown",
   "metadata": {},
   "source": [
    "## We are going to transfer data stored in the pickle files into csv's to work on Origin"
   ]
  },
  {
   "cell_type": "markdown",
   "metadata": {},
   "source": [
    "You will run this after step 2. This allows for you to get away from python if you want to. You can skip this step if you want to do more analysis using python. Up to you!"
   ]
  },
  {
   "cell_type": "markdown",
   "metadata": {},
   "source": [
    "We need to import the modules. Then, we need to load in the pickle files of the data. "
   ]
  },
  {
   "cell_type": "code",
   "execution_count": null,
   "metadata": {},
   "outputs": [],
   "source": [
    "import numpy as np\n",
    "import matplotlib\n",
    "matplotlib.use('TkAgg')\n",
    "from matplotlib import pyplot as plt\n",
    "\n",
    "from IPython.html.widgets import interact, fixed\n",
    "import ipywidgets as widgets\n",
    "\n",
    "import io \n",
    "\n",
    "font_plt = {'family': 'serif',\n",
    "            'color':  'darkred',\n",
    "            'weight': 'normal',\n",
    "            'size': 10,\n",
    "            }\n",
    "font_plt_ax = {'family': 'serif',\n",
    "               'color':  'black',\n",
    "               'weight': 'normal',\n",
    "               'size': 10,\n",
    "              }\n",
    "import sys\n",
    "import glob #glob is helpful for searching for filenames or directories"
   ]
  },
  {
   "cell_type": "markdown",
   "metadata": {},
   "source": [
    "You will need to make sure that the directory is the correct one containing the DDM code (otherwis this won't work)"
   ]
  },
  {
   "cell_type": "code",
   "execution_count": null,
   "metadata": {},
   "outputs": [],
   "source": [
    "sys.path.append('Z:\\\\Code\\\\PythonCode\\\\Differential-Dynamic-Microscopy---Python') \n",
    "import ddm_clean as ddm #this is the module containing the differential dynamic microscopy code"
   ]
  },
  {
   "cell_type": "code",
   "execution_count": null,
   "metadata": {},
   "outputs": [],
   "source": [
    "import scipy #scientific python\n",
    "import pickle #for saving data\n",
    "\n",
    "%matplotlib notebook\n",
    "import matplotlib\n",
    "import matplotlib.pyplot as plt\n",
    "\n",
    "import mpld3\n",
    "\n",
    "# Use seaborn styles for nice-looking plots\n",
    "#import seaborn; seaborn.set()"
   ]
  },
  {
   "cell_type": "markdown",
   "metadata": {},
   "source": [
    "Make sure these are all the same as what you used for step 2. You will be saving the q values for plotting in origin! "
   ]
  },
  {
   "cell_type": "code",
   "execution_count": null,
   "metadata": {},
   "outputs": [],
   "source": [
    "newt = lambda t,s: (1./s)*gamma(1./s)*t\n",
    "framerate = 18.0\n",
    "px = 0.194\n",
    "imDimension = 256\n",
    "q = np.arange(0,imDimension/2)*2*np.pi*(1./(imDimension*(px))) "
   ]
  },
  {
   "cell_type": "markdown",
   "metadata": {},
   "source": [
    "You will change the file directory and name of the file you are loading in to what you saved from the analysis you did in STEP 2!!!"
   ]
  },
  {
   "cell_type": "code",
   "execution_count": null,
   "metadata": {},
   "outputs": [],
   "source": [
    "datadirectory = \"Z:\\\\Where\\\\Your\\\\Data\\\\theRAVs\\\\are\\\\stored\\\\\"\n",
    "datafile = \"file_where_you_saved_data_from_step_2.p\""
   ]
  },
  {
   "cell_type": "markdown",
   "metadata": {},
   "source": [
    "We will now load in the file (which is a dictionary, you will need to make sure the read in function has a \"read binary\" term which is 'rb'."
   ]
  },
  {
   "cell_type": "code",
   "execution_count": null,
   "metadata": {},
   "outputs": [],
   "source": [
    "Thedatafiles = pickle.load(open(datadirectory+datafile,'rb'))"
   ]
  },
  {
   "cell_type": "code",
   "execution_count": null,
   "metadata": {},
   "outputs": [],
   "source": [
    "SampleName = 'Whatever you saved in STEP 2 or STEP 3'\n",
    "data = Thedatafiles[SampleName]\n",
    "fitparams = data['fitparams']\n",
    "theory = data['fitparams']"
   ]
  },
  {
   "cell_type": "code",
   "execution_count": 17,
   "metadata": {},
   "outputs": [],
   "source": [
    "np.savetxt?\n"
   ]
  },
  {
   "cell_type": "code",
   "execution_count": null,
   "metadata": {},
   "outputs": [],
   "source": []
  }
 ],
 "metadata": {
  "kernelspec": {
   "display_name": "Python 2",
   "language": "python",
   "name": "python2"
  },
  "language_info": {
   "codemirror_mode": {
    "name": "ipython",
    "version": 2
   },
   "file_extension": ".py",
   "mimetype": "text/x-python",
   "name": "python",
   "nbconvert_exporter": "python",
   "pygments_lexer": "ipython2",
   "version": "2.7.15"
  }
 },
 "nbformat": 4,
 "nbformat_minor": 2
}
