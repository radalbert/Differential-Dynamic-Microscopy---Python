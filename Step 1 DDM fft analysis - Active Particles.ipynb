{
 "cells": [
  {
   "cell_type": "markdown",
   "metadata": {},
   "source": [
    "# You have taken your videos, but what REALLY is going on in your samples?"
   ]
  },
  {
   "cell_type": "markdown",
   "metadata": {},
   "source": [
    "Rather than manually track how your beads, DNA samples, or active particles are moving, we are going to use a nifty technique called Differential Dynamic Microscopy to exract important the information. \n",
    "\n",
    "So, let's begin. Load in all of the python modules in the following cell. (It's ok for the red warning signs to appear...It will still run!)"
   ]
  },
  {
   "cell_type": "code",
   "execution_count": 17,
   "metadata": {},
   "outputs": [],
   "source": [
    "import numpy as np\n",
    "import matplotlib\n",
    "%matplotlib notebook\n",
    "from matplotlib import pyplot as plt\n",
    "\n",
    "from IPython.html.widgets import interact, fixed\n",
    "import ipywidgets as widgets\n",
    "\n",
    "import io \n",
    "\n",
    "font_plt = {'family': 'serif',\n",
    "            'color':  'darkred',\n",
    "            'weight': 'normal',\n",
    "            'size': 10,\n",
    "            }\n",
    "font_plt_ax = {'family': 'serif',\n",
    "               'color':  'black',\n",
    "               'weight': 'normal',\n",
    "               'size': 10,\n",
    "              }\n",
    "import sys\n",
    "import glob #glob is helpful for searching for filenames or directories\n",
    "import ddm_clean as ddm #this is the module containing the differential dynamic microscopy code\n",
    "import tiff_file\n",
    "import scipy #scientific python\n",
    "import pickle #for saving data"
   ]
  },
  {
   "cell_type": "code",
   "execution_count": 18,
   "metadata": {},
   "outputs": [],
   "source": [
    "%matplotlib notebook\n",
    "import matplotlib\n",
    "import matplotlib.pyplot as plt\n"
   ]
  },
  {
   "cell_type": "markdown",
   "metadata": {},
   "source": [
    "Load in the data directory. I like to have a separate folder for just .tif files, to keep things more organized. You can do this or a different system. \n",
    "\n",
    "The function glob.glob will pull out files with the specific qualities that you require. Here we want files ending with 'ome.tif' so we add the ** in front of 'ome.tif' to mark that there can be anything before the ome.tif. \n",
    "\n",
    "If there are multiple files they will then be sorted into the list named files."
   ]
  },
  {
   "cell_type": "code",
   "execution_count": 38,
   "metadata": {},
   "outputs": [
    {
     "name": "stdout",
     "output_type": "stream",
     "text": [
      "Files founds:  ['Z:\\\\KiraTommy_Summer2019\\\\Data\\\\2019-06-11_1to10_100nm_forDDM\\\\Video_20%_1\\\\Video_20%_1_MMStack_Pos0.ome.tif', 'Z:\\\\KiraTommy_Summer2019\\\\Data\\\\2019-06-11_1to10_100nm_forDDM\\\\Video_20%_1\\\\Video_20%_1_MMStack_Pos0_2x2bin.tif']\n"
     ]
    }
   ],
   "source": [
    "Data_dir = \"Z:\\\\KiraTommy_Summer2019\\\\Data\\\\2019-06-11_1to10_100nm_forDDM\\\\Video_20%_1\\\\\"\n",
    "files = glob.glob(Data_dir+\"*tif\")\n",
    "files.sort()\n",
    "print \"Files founds: \", files"
   ]
  },
  {
   "cell_type": "markdown",
   "metadata": {},
   "source": [
    "Next we will set a few parameters and limits for our analysis.\n",
    "\n",
    "You will have taken videos with upwards of 1000 frames (for DNA videos they are perferably 3000+). These videos can be broken up into groups of different frame differences. We can control what the frame differences are by changing the endframelag variable. \n",
    "\n",
    "We have mostly used 998, 1998, and 2998 depending on the number of frames in the video. For more than 3000 frames I tend to use 2998. \n",
    "\n",
    "We can also change the number of values sampled out of those different time lags (frame differences). Usually we choose 400, but for a quick overview of how the code work we can stick with 20. "
   ]
  },
  {
   "cell_type": "code",
   "execution_count": 35,
   "metadata": {},
   "outputs": [],
   "source": [
    "endframelag = 500\n",
    "numvaluessampled = 20\n",
    "\n",
    "dts = ddm.genLogDist(1,endframelag,numvaluessampled)\n"
   ]
  },
  {
   "cell_type": "markdown",
   "metadata": {},
   "source": [
    "Now we are going to set the region of interest we are going to analyze. FFTs work well with dimensions of 2^n, so keep that in mind when choosing your region of interest (ROI). \n",
    "\n",
    "For DNA videos we have been doing 256x256 px ROIs, usually the videos are 1280x256 so we get 5 ROIs per video.\n",
    "\n",
    "In the cell below, label your ROI in the variable ROI (if you were to do more ROIs you can label them in a list form)"
   ]
  },
  {
   "cell_type": "code",
   "execution_count": 39,
   "metadata": {},
   "outputs": [
    {
     "name": "stdout",
     "output_type": "stream",
     "text": [
      "Analyzing file: Z:\\KiraTommy_Summer2019\\Data\\2019-06-11_1to10_100nm_forDDM\\Video_20%_1\\Video_20%_1_MMStack_Pos0.ome.tif\n"
     ]
    }
   ],
   "source": [
    "file_to_analyze = files[0]\n",
    "print \"Analyzing file: %s\" % file_to_analyze\n",
    "im = tiff_file.imread(file_to_analyze)"
   ]
  },
  {
   "cell_type": "code",
   "execution_count": 40,
   "metadata": {},
   "outputs": [
    {
     "ename": "MemoryError",
     "evalue": "",
     "output_type": "error",
     "traceback": [
      "\u001b[1;31m---------------------------------------------------------------------------\u001b[0m",
      "\u001b[1;31mMemoryError\u001b[0m                               Traceback (most recent call last)",
      "\u001b[1;32m<ipython-input-40-f6e6865f69e9>\u001b[0m in \u001b[0;36m<module>\u001b[1;34m()\u001b[0m\n\u001b[0;32m      1\u001b[0m \u001b[0mstart_frame\u001b[0m \u001b[1;33m=\u001b[0m \u001b[1;36m0\u001b[0m \u001b[1;31m#\u001b[0m\u001b[1;33m\u001b[0m\u001b[0m\n\u001b[1;32m----> 2\u001b[1;33m \u001b[0mfft\u001b[0m\u001b[1;33m,\u001b[0m\u001b[0mdtsB\u001b[0m \u001b[1;33m=\u001b[0m \u001b[0mddm\u001b[0m\u001b[1;33m.\u001b[0m\u001b[0mgetFFTDiffsAtTimes\u001b[0m\u001b[1;33m(\u001b[0m\u001b[0mim\u001b[0m\u001b[1;33m[\u001b[0m\u001b[0mstart_frame\u001b[0m\u001b[1;33m:\u001b[0m\u001b[1;33m,\u001b[0m\u001b[1;33m:\u001b[0m\u001b[1;33m,\u001b[0m\u001b[1;33m:\u001b[0m\u001b[1;33m]\u001b[0m\u001b[1;33m,\u001b[0m \u001b[0mdts\u001b[0m\u001b[1;33m,\u001b[0m \u001b[0mevery\u001b[0m\u001b[1;33m=\u001b[0m\u001b[0mNone\u001b[0m\u001b[1;33m,\u001b[0m \u001b[0mlimitImsTo\u001b[0m\u001b[1;33m=\u001b[0m\u001b[0mNone\u001b[0m\u001b[1;33m,\u001b[0m \u001b[0msubmean\u001b[0m\u001b[1;33m=\u001b[0m\u001b[0mTrue\u001b[0m\u001b[1;33m)\u001b[0m\u001b[1;33m\u001b[0m\u001b[0m\n\u001b[0m\u001b[0;32m      3\u001b[0m \u001b[0mravs\u001b[0m \u001b[1;33m=\u001b[0m \u001b[0mddm\u001b[0m\u001b[1;33m.\u001b[0m\u001b[0mradialAvFFTs_v2\u001b[0m\u001b[1;33m(\u001b[0m\u001b[0mfft\u001b[0m\u001b[1;33m)\u001b[0m\u001b[1;33m\u001b[0m\u001b[0m\n\u001b[0;32m      4\u001b[0m \u001b[0mdts_fft\u001b[0m \u001b[1;33m=\u001b[0m \u001b[1;33m{\u001b[0m\u001b[1;34m'dts'\u001b[0m\u001b[1;33m:\u001b[0m\u001b[0mdts\u001b[0m\u001b[1;33m,\u001b[0m \u001b[1;34m'ffts'\u001b[0m\u001b[1;33m:\u001b[0m\u001b[0mfft\u001b[0m\u001b[1;33m,\u001b[0m \u001b[1;34m'ravs'\u001b[0m\u001b[1;33m:\u001b[0m\u001b[0mravs\u001b[0m\u001b[1;33m}\u001b[0m\u001b[1;33m\u001b[0m\u001b[0m\n\u001b[0;32m      5\u001b[0m \u001b[0mpickle\u001b[0m\u001b[1;33m.\u001b[0m\u001b[0mdump\u001b[0m\u001b[1;33m(\u001b[0m\u001b[0mdts_fft\u001b[0m\u001b[1;33m,\u001b[0m \u001b[0mopen\u001b[0m\u001b[1;33m(\u001b[0m\u001b[0mfile_to_analyze\u001b[0m\u001b[1;33m+\u001b[0m\u001b[1;34m\"_512x512_FFTDIFFS_dts_ravs.p\"\u001b[0m\u001b[1;33m,\u001b[0m\u001b[1;34m'wb'\u001b[0m\u001b[1;33m)\u001b[0m\u001b[1;33m)\u001b[0m\u001b[1;33m\u001b[0m\u001b[0m\n",
      "\u001b[1;32mC:\\Users\\RMCGORTY\\Documents\\GitHub\\Differential-Dynamic-Microscopy---Python\\ddm_clean.pyc\u001b[0m in \u001b[0;36mgetFFTDiffsAtTimes\u001b[1;34m(imageFile, dts, limitImsTo, every, shiftAtEnd, noshift, submean)\u001b[0m\n\u001b[0;32m    104\u001b[0m \u001b[1;33m\u001b[0m\u001b[0m\n\u001b[0;32m    105\u001b[0m         \u001b[1;31m#Calculates all differences of images with a delay time dt\u001b[0m\u001b[1;33m\u001b[0m\u001b[1;33m\u001b[0m\u001b[0m\n\u001b[1;32m--> 106\u001b[1;33m         \u001b[0mall_diffs\u001b[0m \u001b[1;33m=\u001b[0m \u001b[0mims\u001b[0m\u001b[1;33m[\u001b[0m\u001b[0mdt\u001b[0m\u001b[1;33m:\u001b[0m\u001b[1;33m]\u001b[0m\u001b[1;33m.\u001b[0m\u001b[0mastype\u001b[0m\u001b[1;33m(\u001b[0m\u001b[0mnp\u001b[0m\u001b[1;33m.\u001b[0m\u001b[0mfloat\u001b[0m\u001b[1;33m)\u001b[0m \u001b[1;33m-\u001b[0m \u001b[0mims\u001b[0m\u001b[1;33m[\u001b[0m\u001b[1;36m0\u001b[0m\u001b[1;33m:\u001b[0m\u001b[1;33m(\u001b[0m\u001b[1;33m-\u001b[0m\u001b[1;36m1\u001b[0m\u001b[1;33m*\u001b[0m\u001b[0mdt\u001b[0m\u001b[1;33m)\u001b[0m\u001b[1;33m]\u001b[0m\u001b[1;33m.\u001b[0m\u001b[0mastype\u001b[0m\u001b[1;33m(\u001b[0m\u001b[0mnp\u001b[0m\u001b[1;33m.\u001b[0m\u001b[0mfloat\u001b[0m\u001b[1;33m)\u001b[0m\u001b[1;33m\u001b[0m\u001b[0m\n\u001b[0m\u001b[0;32m    107\u001b[0m \u001b[1;33m\u001b[0m\u001b[0m\n\u001b[0;32m    108\u001b[0m         \u001b[1;31m#Rather than FT all image differences of a given lag time, only select a subset\u001b[0m\u001b[1;33m\u001b[0m\u001b[1;33m\u001b[0m\u001b[0m\n",
      "\u001b[1;31mMemoryError\u001b[0m: "
     ]
    }
   ],
   "source": [
    "start_frame = 0 #\n",
    "fft,dtsB = ddm.getFFTDiffsAtTimes(im[start_frame:,:,:], dts, every=None, limitImsTo=None, submean=True)\n",
    "ravs = ddm.radialAvFFTs_v2(fft)\n",
    "dts_fft = {'dts':dts, 'ffts':fft, 'ravs':ravs}\n",
    "pickle.dump(dts_fft, open(file_to_analyze+\"_512x512_FFTDIFFS_dts_ravs.p\",'wb'))"
   ]
  },
  {
   "cell_type": "markdown",
   "metadata": {},
   "source": [
    "Only one ROI: run the cell below\n",
    "\n",
    "There is a separate version (two cells down) if you have multiple ROIs to run"
   ]
  },
  {
   "cell_type": "code",
   "execution_count": null,
   "metadata": {},
   "outputs": [],
   "source": [
    "ROI_v = 'Center'\n",
    "\n",
    "ran_v = 256\n",
    "\n",
    "ran2_v = 512\n",
    "\n",
    "# you will want to change the initial y and end y values depending on the size of your video and where you want your ROI to be.\n",
    "inty_value = 5\n",
    "\n",
    "endy_value = 261"
   ]
  },
  {
   "cell_type": "markdown",
   "metadata": {},
   "source": [
    "Now, the actual meat of the code! This for loop will run through all of the videos in the list named files (from earlier cell). This will only analyze one ROI and will do so for the region you created above.\n",
    "\n",
    "All of the FFT files will be saved to the file where the videos are taken from, but you can move them after the code has finished. \n",
    "\n",
    "This code can take a while to run, especially if the numvaluessampled variable is 400. \n",
    "\n",
    "Run the next cell to truly begin analysis"
   ]
  },
  {
   "cell_type": "code",
   "execution_count": null,
   "metadata": {},
   "outputs": [],
   "source": [
    "for i in range(len(files)):\n",
    "    \n",
    "    im = tiff_file.imread(files)\n",
    "    fft,dtsB = ddm_clean.getFFTDiffsAtTimes(im[:,inty_value:endy_value,ran_v:ran2_v], dts, every=None, limitImsTo=None, submean=True)\n",
    "    ravs = ddm_clean.radialAvFFTs_v2(fft)\n",
    "    dts_fft = {'dts':dts, 'ffts':fft, 'ravs':ravs}\n",
    "    pickle.dump(dts_fft, open(files[i][:-4]+\"_\"+ROI_v+\"_128x128_FFTDIFFS_dts_ravs.p\",'wb'))"
   ]
  },
  {
   "cell_type": "markdown",
   "metadata": {},
   "source": [
    "Multiple ROIs: run the cell below \n",
    "\n",
    "The cell following the next is the same as the one above, but has a second for loop to run through the multiple ROIs. \n",
    "\n",
    "The y values do not need to change. "
   ]
  },
  {
   "cell_type": "code",
   "execution_count": null,
   "metadata": {},
   "outputs": [],
   "source": [
    "ROI = ['0', '128', '256', '384', '512', '640', '768', '896']\n",
    "\n",
    "ran = [0, 128, 256, 384, 512, 640, 768, 896]\n",
    "\n",
    "ran2 = [128, 256, 384, 512, 640, 768, 896, 1024]\n",
    "\n",
    "# you will want to change the initial y and end y values depending on the size of your video and where you want your ROI to be.\n",
    "inty_value = 5\n",
    "\n",
    "endy_value = 261"
   ]
  },
  {
   "cell_type": "code",
   "execution_count": null,
   "metadata": {},
   "outputs": [],
   "source": [
    "for i in range(len(files)):\n",
    "    \n",
    "    im = tiff_file.imread(files)\n",
    "    \n",
    "    for j in range(len(ROI)):\n",
    "        \n",
    "        fft,dtsB = ddm_clean.getFFTDiffsAtTimes(im[:,5:133,ran[j]:ran2[j]], dts, every=None, limitImsTo=None, submean=True)\n",
    "        ravs = ddm_clean.radialAvFFTs_v2(fft)\n",
    "        dts_fft = {'dts':dts, 'ffts':fft, 'ravs':ravs}\n",
    "        pickle.dump(dts_fft, open(files[i][:-4]+\"_\"+ROI[j]+\"_128x128_FFTDIFFS_dts_ravs.p\",'wb'))"
   ]
  },
  {
   "cell_type": "markdown",
   "metadata": {},
   "source": [
    "Once this code has finished running continue on to Step 2. DDM fitting ravs to find taus"
   ]
  },
  {
   "cell_type": "code",
   "execution_count": null,
   "metadata": {},
   "outputs": [],
   "source": []
  }
 ],
 "metadata": {
  "kernelspec": {
   "display_name": "Python 2",
   "language": "python",
   "name": "python2"
  },
  "language_info": {
   "codemirror_mode": {
    "name": "ipython",
    "version": 2
   },
   "file_extension": ".py",
   "mimetype": "text/x-python",
   "name": "python",
   "nbconvert_exporter": "python",
   "pygments_lexer": "ipython2",
   "version": "2.7.15"
  }
 },
 "nbformat": 4,
 "nbformat_minor": 2
}
