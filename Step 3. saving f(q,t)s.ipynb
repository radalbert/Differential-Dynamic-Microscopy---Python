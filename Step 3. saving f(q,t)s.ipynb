{
 "cells": [
  {
   "cell_type": "markdown",
   "metadata": {},
   "source": [
    "## Step 3. (If you are wanting to do this step) Here we are going to calculate, plot, and save the f(q,t) "
   ]
  },
  {
   "cell_type": "markdown",
   "metadata": {},
   "source": [
    "This step takes place after Step 2. (the step in the analysis code where you actually fit the data -- D(q,t) vs time lag --and get the characteristic decay times for each spatial frequency measured) "
   ]
  },
  {
   "cell_type": "markdown",
   "metadata": {},
   "source": [
    "Like every other code we have run thus far, we need to load in all of the necessary modules"
   ]
  },
  {
   "cell_type": "code",
   "execution_count": null,
   "metadata": {},
   "outputs": [],
   "source": [
    "import numpy as np\n",
    "import matplotlib\n",
    "matplotlib.use('TkAgg')\n",
    "from matplotlib import pyplot as plt\n",
    "import mpld3\n",
    "\n",
    "from IPython.html.widgets import interact, fixed\n",
    "import ipywidgets as widgets\n",
    "\n",
    "import io\n",
    "\n",
    "font_plt = {'family': 'serif',\n",
    "            'color':  'darkred',\n",
    "            'weight': 'normal',\n",
    "            'size': 10,\n",
    "            }\n",
    "font_plt_ax = {'family': 'serif',\n",
    "               'color':  'black',\n",
    "               'weight': 'normal',\n",
    "               'size': 10,\n",
    "              }\n",
    "import sys\n",
    "import glob #glob is helpful for searching for filenames or directories\n",
    "sys.path.append('E:\\\\Differential-Dynamic-Microscopy---Python')  ### THIS NEEDS TO BE CHANGED! ###\n",
    "import ddm_clean as ddm #this is the module containing the differential dynamic microscopy code\n",
    "import scipy #scientific python\n",
    "import pickle #for saving data\n",
    "from scipy.special import gamma\n",
    "\n",
    "import scipy #scientific python\n",
    "import pickle #for saving data\n",
    "\n",
    "%matplotlib notebook\n",
    "# Use seaborn styles for nice-looking plots\n",
    "#import seaborn; seaborn.set()"
   ]
  },
  {
   "cell_type": "code",
   "execution_count": null,
   "metadata": {},
   "outputs": [],
   "source": [
    "newt = lambda t,s: (1./s)*gamma(1./s)*t\n",
    "framerate = 18.0\n",
    "px = 0.194\n",
    "imDimension = 256\n",
    "q = np.arange(0,imDimension/2)*2*np.pi*(1./(imDimension*(px))) "
   ]
  },
  {
   "cell_type": "markdown",
   "metadata": {},
   "source": [
    "We need to load in the data we analyzed, which should be saved in a nice dictionary. (we will do this through the use of the pickle function)\n",
    "\n",
    "The next few cells are setting which data is loaded in. You will change the topology, condition, video, and ROI depending on which one you are analyzing."
   ]
  },
  {
   "cell_type": "code",
   "execution_count": null,
   "metadata": {},
   "outputs": [],
   "source": [
    "Topology = [\"linear\", \"circular\"]\n",
    "Condition = [\"none\", \"microtubules\",\"actin\",\"both\",\"co\"]\n",
    "t = 0\n",
    "c = 0\n",
    "\n",
    "# you can use these as the variables to set the files/names throughout the code \n",
    "# you will change the value of t, c "
   ]
  },
  {
   "cell_type": "code",
   "execution_count": null,
   "metadata": {},
   "outputs": [],
   "source": [
    "allData = pickle.load(open(\"//directory//\"+Topology[t]+\"and\"+Condition[c]+\"file name here\", \"rb\"))"
   ]
  },
  {
   "cell_type": "code",
   "execution_count": null,
   "metadata": {},
   "outputs": [],
   "source": [
    "video = \"1\"\n",
    "ROI = \"0\""
   ]
  },
  {
   "cell_type": "code",
   "execution_count": null,
   "metadata": {},
   "outputs": [],
   "source": [
    "fitparams = allData['fitparams_'+video+'_'+ROI]  \n",
    "theory = allData['theory_'+video+'_'+ROI] \n",
    "ravs = allData['ravs_'+video+'_'+ROI] \n",
    "dts = allData['dts']\n",
    "times = dts/framerate"
   ]
  },
  {
   "cell_type": "markdown",
   "metadata": {},
   "source": [
    "Now we are getting the data out of the fitparams matrix"
   ]
  },
  {
   "cell_type": "code",
   "execution_count": null,
   "metadata": {},
   "outputs": [],
   "source": [
    "taus = fitparams[:,1]\n",
    "bg = fitparams[:,2]\n",
    "strecthing = fitparams[:,3]\n",
    "amp = fitparams[:,0]"
   ]
  },
  {
   "cell_type": "markdown",
   "metadata": {},
   "source": [
    "We will now specify which spatial frequency (q) we want to look at for the f(q,t) [the intermediate scattering function] "
   ]
  },
  {
   "cell_type": "code",
   "execution_count": null,
   "metadata": {},
   "outputs": [],
   "source": [
    "q_index = 10"
   ]
  },
  {
   "cell_type": "code",
   "execution_count": null,
   "metadata": {},
   "outputs": [],
   "source": [
    "fqt = (1-(ravs[:,q_index] - bg)/(amp))"
   ]
  },
  {
   "cell_type": "code",
   "execution_count": null,
   "metadata": {},
   "outputs": [],
   "source": [
    "fig = plt.figure();\n",
    "ax = plt.gca()\n",
    "ax.semilogx(times[::2],fq[::2],color='0.5',marker='o',linestyle = '',linewidth=3,alpha=0.7)"
   ]
  },
  {
   "cell_type": "code",
   "execution_count": null,
   "metadata": {},
   "outputs": [],
   "source": [
    "allfqts = {} #comment this out after you have initially analyzed it"
   ]
  },
  {
   "cell_type": "code",
   "execution_count": null,
   "metadata": {},
   "outputs": [],
   "source": [
    "allfqts[Condtion[c]+\"_\"+Topology[t]+\"_\"+video+\"_\"ROI+\"_f(q,t)s\"] = fqt"
   ]
  },
  {
   "cell_type": "markdown",
   "metadata": {},
   "source": [
    "Then repeat until you have done this for all the q values you want to look at. "
   ]
  },
  {
   "cell_type": "code",
   "execution_count": null,
   "metadata": {},
   "outputs": [],
   "source": []
  }
 ],
 "metadata": {
  "kernelspec": {
   "display_name": "Python 2",
   "language": "python",
   "name": "python2"
  },
  "language_info": {
   "codemirror_mode": {
    "name": "ipython",
    "version": 2
   },
   "file_extension": ".py",
   "mimetype": "text/x-python",
   "name": "python",
   "nbconvert_exporter": "python",
   "pygments_lexer": "ipython2",
   "version": "2.7.15"
  }
 },
 "nbformat": 4,
 "nbformat_minor": 2
}
