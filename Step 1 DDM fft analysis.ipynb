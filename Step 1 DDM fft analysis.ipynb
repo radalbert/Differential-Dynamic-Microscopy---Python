{
 "cells": [
  {
   "cell_type": "markdown",
   "metadata": {},
   "source": [
    "# You have taken your videos, but what REALLY is going on in your samples?"
   ]
  },
  {
   "cell_type": "markdown",
   "metadata": {},
   "source": [
    "Rather than manually track how your beads, DNA samples, or active particles are moving, we are going to use a nifty technique called Differential Dynamic Microscopy to exract important the information. \n",
    "\n",
    "So, let's begin. Load in all of the python modules in the following cell. (It's ok for the red warning signs to appear...It will still run!)"
   ]
  },
  {
   "cell_type": "code",
   "execution_count": 1,
   "metadata": {},
   "outputs": [
    {
     "name": "stderr",
     "output_type": "stream",
     "text": [
      "C:\\ProgramData\\Anaconda2\\lib\\site-packages\\IPython\\html.py:14: ShimWarning: The `IPython.html` package has been deprecated since IPython 4.0. You should import from `notebook` instead. `IPython.html.widgets` has moved to `ipywidgets`.\n",
      "  \"`IPython.html.widgets` has moved to `ipywidgets`.\", ShimWarning)\n",
      "tiff_file.py:1995: UserWarning: failed to import _tifffile.decodepackbits\n",
      "  warnings.warn(\"failed to import %s\" % module_function)\n",
      "tiff_file.py:1995: UserWarning: failed to import _tifffile.decodelzw\n",
      "  warnings.warn(\"failed to import %s\" % module_function)\n",
      "tiff_file.py:1995: UserWarning: failed to import _tifffile.unpackints\n",
      "  warnings.warn(\"failed to import %s\" % module_function)\n"
     ]
    }
   ],
   "source": [
    "import numpy as np\n",
    "import matplotlib\n",
    "matplotlib.use('TkAgg')\n",
    "from matplotlib import pyplot as plt\n",
    "\n",
    "from IPython.html.widgets import interact, fixed\n",
    "import ipywidgets as widgets\n",
    "\n",
    "import io \n",
    "\n",
    "font_plt = {'family': 'serif',\n",
    "            'color':  'darkred',\n",
    "            'weight': 'normal',\n",
    "            'size': 10,\n",
    "            }\n",
    "font_plt_ax = {'family': 'serif',\n",
    "               'color':  'black',\n",
    "               'weight': 'normal',\n",
    "               'size': 10,\n",
    "              }\n",
    "import sys\n",
    "import glob #glob is helpful for searching for filenames or directories\n",
    "import ddm_clean as ddm #this is the module containing the differential dynamic microscopy code\n",
    "import scipy #scientific python\n",
    "import pickle #for saving data"
   ]
  },
  {
   "cell_type": "code",
   "execution_count": 2,
   "metadata": {},
   "outputs": [],
   "source": [
    "%matplotlib notebook\n",
    "import matplotlib\n",
    "import matplotlib.pyplot as plt\n",
    "\n",
    "#import mpld3\n",
    "\n",
    "# Use seaborn styles for nice-looking plots\n",
    "#import seaborn; seaborn.set()"
   ]
  },
  {
   "cell_type": "markdown",
   "metadata": {},
   "source": [
    "Load in the data directory. I like to have a separate folder for just .tif files, to keep things more organized. You can do this or a different system. \n",
    "\n",
    "The function glob.glob will pull out files with the specific qualities that you require. Here we want files ending with 'ome.tif' so we add the ** in front of 'ome.tif' to mark that there can be anything before the ome.tif. \n",
    "\n",
    "If there are multiple files they will then be sorted into the list named files."
   ]
  },
  {
   "cell_type": "code",
   "execution_count": null,
   "metadata": {},
   "outputs": [],
   "source": [
    "Data_dir = \"Z:\\\\NameofDirectoryHoldingyourVideoFiles\\\\Theseshouldbe.tifFiles\\\\\"\n",
    "files = glob.glob(Data_dir+\"**ome.tif\")\n",
    "files.sort()"
   ]
  },
  {
   "cell_type": "markdown",
   "metadata": {},
   "source": [
    "Next we will set a few parameters and limits for our analysis.\n",
    "\n",
    "You will have taken videos with upwards of 1000 frames (for DNA videos they are perferably 3000+). These videos can be broken up into groups of different frame differences. We can control what the frame differences are by changing the endframelag variable. \n",
    "\n",
    "We have mostly used 998, 1998, and 2998 depending on the number of frames in the video. For more than 3000 frames I tend to use 2998. \n",
    "\n",
    "We can also change the number of values sampled out of those different time lags (frame differences). Usually we choose 400, but for a quick overview of how the code work we can stick with 20. "
   ]
  },
  {
   "cell_type": "code",
   "execution_count": null,
   "metadata": {},
   "outputs": [],
   "source": [
    "endframelag = 998\n",
    "numvaluessampled = 20\n",
    "\n",
    "dts = ddm_clean.genLogDist(1,endframelag,numvaluessampled)\n"
   ]
  },
  {
   "cell_type": "markdown",
   "metadata": {},
   "source": [
    "Now we are going to set the region of interest we are going to analyze. FFTs work well with dimensions of 2^n, so keep that in mind when choosing your region of interest (ROI). \n",
    "\n",
    "For DNA videos we have been doing 256x256 px ROIs, usually the videos are 1280x256 so we get 5 ROIs per video.\n",
    "\n",
    "In the cell below, label your ROI in the variable ROI (if you were to do more ROIs you can label them in a list form)"
   ]
  },
  {
   "cell_type": "markdown",
   "metadata": {},
   "source": [
    "Only one ROI: run the cell below\n",
    "\n",
    "There is a separate version (two cells down) if you have multiple ROIs to run"
   ]
  },
  {
   "cell_type": "code",
   "execution_count": null,
   "metadata": {},
   "outputs": [],
   "source": [
    "ROI_v = 'Center'\n",
    "\n",
    "ran_v = 256\n",
    "\n",
    "ran2_v = 512\n",
    "\n",
    "# you will want to change the initial y and end y values depending on the size of your video and where you want your ROI to be.\n",
    "inty_value = 5\n",
    "\n",
    "endy_value = 261"
   ]
  },
  {
   "cell_type": "markdown",
   "metadata": {},
   "source": [
    "Now, the actual meat of the code! This for loop will run through all of the videos in the list named files (from earlier cell). This will only analyze one ROI and will do so for the region you created above.\n",
    "\n",
    "All of the FFT files will be saved to the file where the videos are taken from, but you can move them after the code has finished. \n",
    "\n",
    "This code can take a while to run, especially if the numvaluessampled variable is 400. \n",
    "\n",
    "Run the next cell to truly begin analysis"
   ]
  },
  {
   "cell_type": "code",
   "execution_count": null,
   "metadata": {},
   "outputs": [],
   "source": [
    "for i in range(len(files)):\n",
    "    \n",
    "    im = tiff_file.imread(files)\n",
    "    fft,dtsB = ddm_clean.getFFTDiffsAtTimes(im[:,inty_value:endy_value,ran_v:ran2_v], dts, every=None, limitImsTo=None, submean=True)\n",
    "    ravs = ddm_clean.radialAvFFTs_v2(fft)\n",
    "    dts_fft = {'dts':dts, 'ffts':fft, 'ravs':ravs}\n",
    "    pickle.dump(dts_fft, open(files[i][:-4]+\"_\"+ROI_v+\"_128x128_FFTDIFFS_dts_ravs.p\",'wb'))"
   ]
  },
  {
   "cell_type": "markdown",
   "metadata": {},
   "source": [
    "Multiple ROIs: run the cell below \n",
    "\n",
    "The cell following the next is the same as the one above, but has a second for loop to run through the multiple ROIs. \n",
    "\n",
    "The y values do not need to change. "
   ]
  },
  {
   "cell_type": "code",
   "execution_count": null,
   "metadata": {},
   "outputs": [],
   "source": [
    "ROI = ['0', '128', '256', '384', '512', '640', '768', '896']\n",
    "\n",
    "ran = [0, 128, 256, 384, 512, 640, 768, 896]\n",
    "\n",
    "ran2 = [128, 256, 384, 512, 640, 768, 896, 1024]\n",
    "\n",
    "# you will want to change the initial y and end y values depending on the size of your video and where you want your ROI to be.\n",
    "inty_value = 5\n",
    "\n",
    "endy_value = 261"
   ]
  },
  {
   "cell_type": "code",
   "execution_count": null,
   "metadata": {},
   "outputs": [],
   "source": [
    "for i in range(len(files)):\n",
    "    \n",
    "    im = tiff_file.imread(files)\n",
    "    \n",
    "    for j in range(len(ROI)):\n",
    "        \n",
    "        fft,dtsB = ddm_clean.getFFTDiffsAtTimes(im[:,5:133,ran[j]:ran2[j]], dts, every=None, limitImsTo=None, submean=True)\n",
    "        ravs = ddm_clean.radialAvFFTs_v2(fft)\n",
    "        dts_fft = {'dts':dts, 'ffts':fft, 'ravs':ravs}\n",
    "        pickle.dump(dts_fft, open(files[i][:-4]+\"_\"+ROI[j]+\"_128x128_FFTDIFFS_dts_ravs.p\",'wb'))"
   ]
  },
  {
   "cell_type": "markdown",
   "metadata": {},
   "source": [
    "Once this code has finished running continue on to Step 2. DDM fitting ravs to find taus"
   ]
  },
  {
   "cell_type": "code",
   "execution_count": null,
   "metadata": {},
   "outputs": [],
   "source": []
  }
 ],
 "metadata": {
  "kernelspec": {
   "display_name": "Python 2",
   "language": "python",
   "name": "python2"
  },
  "language_info": {
   "codemirror_mode": {
    "name": "ipython",
    "version": 2
   },
   "file_extension": ".py",
   "mimetype": "text/x-python",
   "name": "python",
   "nbconvert_exporter": "python",
   "pygments_lexer": "ipython2",
   "version": "2.7.15"
  }
 },
 "nbformat": 4,
 "nbformat_minor": 2
}
