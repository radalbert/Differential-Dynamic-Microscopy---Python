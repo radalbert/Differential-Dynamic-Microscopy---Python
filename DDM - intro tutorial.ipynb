{
 "cells": [
  {
   "cell_type": "markdown",
   "metadata": {},
   "source": [
    "We'll be using differential dynamic microscopy. This technique was first described in 2008 in an article in PRL by Cerbino and Trappe. \n",
    "![PRL image](DDM_Paper_PRL.PNG)\n",
    "You can find the paper [here](https://journals.aps.org/prl/abstract/10.1103/PhysRevLett.100.188102). "
   ]
  },
  {
   "cell_type": "markdown",
   "metadata": {},
   "source": [
    "The heart of the DDM code (found in the `ddm_clean.py` file) is the computation of the image structure function. This is found by taking the average of the Fourier transforms of all image *differences*. By \"image differences,\" I mean the result of subtracting two images separated by a given lag time $\\Delta t$.\n",
    "\n",
    "To describe the process mathematically, we find the difference between images separated by some lag time $\\Delta t$:\n",
    "$$\\Delta I = I(x,y;t) - I(x,y;t + \\Delta t)$$\n",
    "\n",
    "For a given $\\Delta t$ all such image differences are calculated. We then Fourier transform each $\\Delta I$ and average all of the same $\\Delta t$.\n",
    "\n",
    "This results in the image structure function $D(q_x,q_y,\\Delta t)$."
   ]
  },
  {
   "cell_type": "code",
   "execution_count": null,
   "metadata": {},
   "outputs": [],
   "source": [
    "%matplotlib notebook\n",
    "import numpy as np\n",
    "import matplotlib\n",
    "import matplotlib.pyplot as plt\n"
   ]
  },
  {
   "cell_type": "code",
   "execution_count": null,
   "metadata": {},
   "outputs": [],
   "source": [
    "font_plt = {'family': 'serif',\n",
    "            'color':  'darkred',\n",
    "            'weight': 'normal',\n",
    "            'size': 6,\n",
    "            }\n",
    "font_plt_ax = {'family': 'serif',\n",
    "               'color':  'black',\n",
    "               'weight': 'normal',\n",
    "               'size': 6,\n",
    "              }"
   ]
  },
  {
   "cell_type": "code",
   "execution_count": null,
   "metadata": {
    "scrolled": true
   },
   "outputs": [],
   "source": [
    "import numpy as np #numerical python used for working with arrays, mathematical operations\n",
    "import time #useful for timing functions\n",
    "import sys\n",
    "import glob #glob is helpful for searching for filenames or directories\n",
    "import ddm_clean as ddm #this is the module containing the differential dynamic microscopy code\n",
    "import scipy #scientific python\n",
    "from scipy.signal import blackmanharris as bh #for Blackman-Harris windowing\n",
    "import pickle #for saving data"
   ]
  },
  {
   "cell_type": "code",
   "execution_count": null,
   "metadata": {},
   "outputs": [],
   "source": [
    "#Specify where the data is stored and the image data filename. Must be in tiff format\n",
    "data_dir = \".\\\\ExampleData\\\\\"\n",
    "data_file = \"images_nobin_40x_128x128_8bit.tif\"\n",
    "\n",
    "#Image read using tiff_file module\n",
    "im = ddm.tiff_file.imread(data_dir+data_file)\n",
    "\n",
    "#Display the second frame of the image\n",
    "plt.matshow(im[1], cmap=matplotlib.cm.gray)\n",
    "\n",
    "print(\"This tif stack has %i frames.\" % im.shape[0])"
   ]
  },
  {
   "cell_type": "markdown",
   "metadata": {},
   "source": [
    "### Let's look at image *differences*"
   ]
  },
  {
   "cell_type": "code",
   "execution_count": null,
   "metadata": {},
   "outputs": [],
   "source": [
    "# Here, we show the difference between frames 1 and 2.\n",
    "# Notice that the second frame is multiplied by 1.0. That is done just so\n",
    "#  that the matrix will be converted from integers to floating points. \n",
    "#  Because we want there to be negative numbers if values in frame 2 are\n",
    "#  greater than values in frame 1.\n",
    "\n",
    "plt.figure()\n",
    "plt.matshow(1.0*im[1]-im[0], fignum=0, cmap=plt.cm.gray)"
   ]
  },
  {
   "cell_type": "code",
   "execution_count": null,
   "metadata": {},
   "outputs": [],
   "source": [
    "# Here, we show the difference between frames 1 and 50.\n",
    "\n",
    "plt.figure()\n",
    "plt.matshow(1.0*im[50]-im[0], fignum=0, cmap=plt.cm.gray)"
   ]
  },
  {
   "cell_type": "code",
   "execution_count": null,
   "metadata": {},
   "outputs": [],
   "source": [
    "# Let's place those images side-by-side. We'll actually just\n",
    "#  combine the two matrices with the 'hstack' function in numpy.\n",
    "\n",
    "plt.figure()\n",
    "plt.matshow(np.hstack((1.0*im[1]-im[0], 1.0*im[50]-im[0])), fignum=0, cmap=plt.cm.gray)"
   ]
  },
  {
   "cell_type": "code",
   "execution_count": null,
   "metadata": {},
   "outputs": [],
   "source": [
    "# Do something similar to what was done in the previous code cell.\n",
    "#   Put show the differences between frames 2 and 1 and between frames\n",
    "#   100 and 1. \n",
    "# Then, in another figure, show the differences between frames 21 and 22\n",
    "#    and between frame 21 and 120. \n",
    "\n",
    "plt.figure()\n",
    "# ... you write the rest"
   ]
  },
  {
   "cell_type": "markdown",
   "metadata": {},
   "source": [
    "What's different about the image differences with a short lag time separation (1 frame) and the image differences with a longer lag time separation (100 frames?"
   ]
  },
  {
   "cell_type": "markdown",
   "metadata": {},
   "source": [
    "### Let's look at the Fourier transform of image *differences*"
   ]
  },
  {
   "cell_type": "code",
   "execution_count": null,
   "metadata": {},
   "outputs": [],
   "source": [
    "ft_diff_frame1 = np.fft.fftshift(np.fft.fft2(1.0*im[1]-im[0]))\n",
    "plt.figure()\n",
    "plt.matshow(np.log(abs(ft_diff_frame1)), fignum=0, cmap=plt.cm.gray)\n",
    "\n",
    "# What is the 'np.log' there for??\n",
    "\n",
    "plt.title(\"Fourier tranform of difference between frame 2 and frame 1\")"
   ]
  },
  {
   "cell_type": "code",
   "execution_count": null,
   "metadata": {},
   "outputs": [],
   "source": [
    "ft_diff_frame100 = np.fft.fftshift(np.fft.fft2(1.0*im[100]-im[0]))\n",
    "plt.figure()\n",
    "plt.matshow(np.log(abs(ft_diff_frame100)), fignum=0, cmap=plt.cm.gray)\n",
    "plt.title(\"Fourier tranform of difference between frame 100 and frame 1\")"
   ]
  },
  {
   "cell_type": "code",
   "execution_count": null,
   "metadata": {},
   "outputs": [],
   "source": [
    "#Let's plot them on the same figure so that we can more easily compare\n",
    "ft_diff_frame1 = np.fft.fftshift(np.fft.fft2(1.0*im[1]-im[0]))\n",
    "plt.figure()\n",
    "plt.matshow(np.log(abs(np.hstack((ft_diff_frame1,ft_diff_frame100)))), fignum=0, cmap=plt.cm.gray)\n",
    "plt.title(\"Fourier tranform of image differences\")"
   ]
  },
  {
   "cell_type": "markdown",
   "metadata": {},
   "source": [
    "What are some things you notice about the Fourier transforms?"
   ]
  },
  {
   "cell_type": "markdown",
   "metadata": {},
   "source": [
    "Now, let's take *all* pairs of frames separated by some time (let's say 5 frames) and average together their Fourier transforms."
   ]
  },
  {
   "cell_type": "code",
   "execution_count": null,
   "metadata": {},
   "outputs": [],
   "source": [
    "#First, let's initialize some array to hold this average\n",
    "ft_diffs_5frames = np.zeros_like(ft_diff_frame1) #look up what 'zeros_like' does\n",
    "\n",
    "#Loop through all frames. Let's not actually take *every* pair of images separated by 5\n",
    "#  frames. Instead, we'll go in steps of 20 frames. So we'll find the difference between \n",
    "#  frame 1 and 6, 21 and 26, 41 and 46, etc.\n",
    "j=0 #This variable is used as a counter in our running average\n",
    "for i in range(0, im.shape[0]-5, 20):\n",
    "    image_difference = 1.0*im[i+5] - im[i]\n",
    "    ft_diffs_5frames = ft_diffs_5frames + np.fft.fftshift(np.fft.fft2(image_difference))\n",
    "    j=j+1\n",
    "ft_diffs_5frames = ft_diffs_5frames / j"
   ]
  },
  {
   "cell_type": "code",
   "execution_count": null,
   "metadata": {},
   "outputs": [],
   "source": [
    "plt.figure()\n",
    "plt.matshow(np.log(abs(ft_diffs_5frames)), fignum=0, cmap=plt.cm.gray)\n",
    "plt.title(\"Avg of Fourier tranforms of difference between frames with lag time of five frames\", fontsize=10)"
   ]
  },
  {
   "cell_type": "markdown",
   "metadata": {},
   "source": [
    "Do something similar. But this time, find the average of the Fourier transforms of image differences with a lag time of: (a) 1 frame, (b) 50 frames, and (c) 200 frames. Show them all on the same figure side-by-side using 'hstack'."
   ]
  },
  {
   "cell_type": "code",
   "execution_count": null,
   "metadata": {},
   "outputs": [],
   "source": []
  }
 ],
 "metadata": {
  "kernelspec": {
   "display_name": "Python 2",
   "language": "python",
   "name": "python2"
  },
  "language_info": {
   "codemirror_mode": {
    "name": "ipython",
    "version": 2
   },
   "file_extension": ".py",
   "mimetype": "text/x-python",
   "name": "python",
   "nbconvert_exporter": "python",
   "pygments_lexer": "ipython2",
   "version": "2.7.15"
  },
  "widgets": {
   "state": {
    "0689152f16ed41dc8a8bcb723dd208ff": {
     "views": [
      {
       "cell_index": 12
      }
     ]
    },
    "26aa4e49158c4ac1849007468d752942": {
     "views": [
      {
       "cell_index": 5
      }
     ]
    },
    "2f4331df93e34013bb2c39527f242747": {
     "views": [
      {
       "cell_index": 12
      }
     ]
    },
    "44268e92f7a341398441a40371d4d52e": {
     "views": [
      {
       "cell_index": 12
      }
     ]
    },
    "865c7b14e4224de59bdedc2a153c180c": {
     "views": [
      {
       "cell_index": 12
      }
     ]
    },
    "875f47d176124605be1a53d9c460194d": {
     "views": [
      {
       "cell_index": 4
      }
     ]
    },
    "a7696b918cb04f9dba715f91419757d3": {
     "views": [
      {
       "cell_index": 5
      }
     ]
    },
    "a7856b7a541d49899761758860c70a33": {
     "views": [
      {
       "cell_index": 12
      }
     ]
    },
    "f3ec44c7464c43d6bb1b7c50fc36cceb": {
     "views": [
      {
       "cell_index": 5
      }
     ]
    },
    "f848a825e63a484f96afe2eaf70e7127": {
     "views": [
      {
       "cell_index": 5
      }
     ]
    }
   },
   "version": "1.2.0"
  }
 },
 "nbformat": 4,
 "nbformat_minor": 2
}
