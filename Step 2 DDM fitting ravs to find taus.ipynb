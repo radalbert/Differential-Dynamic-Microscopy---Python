{
 "cells": [
  {
   "cell_type": "markdown",
   "metadata": {},
   "source": [
    "# Run after Step 1 is finished. This is the meat of the analysis process!"
   ]
  },
  {
   "cell_type": "markdown",
   "metadata": {},
   "source": [
    "The final outputs of this code are the characteristic decay times (taus), the fit parameters that resulted in the taus, and a basic picture of what the data looks like for a particular video or sample."
   ]
  },
  {
   "cell_type": "markdown",
   "metadata": {},
   "source": [
    "You need to be careful with the way you handle the data. There is a lot of data to work with, save, and organize. I would recommend in the beginning going video by video. Once you feel more confident then you could go sample by sample."
   ]
  },
  {
   "cell_type": "markdown",
   "metadata": {},
   "source": [
    "Step 1. Initialize the necessary python modules. "
   ]
  },
  {
   "cell_type": "code",
   "execution_count": null,
   "metadata": {},
   "outputs": [],
   "source": [
    "import numpy as np\n",
    "import matplotlib\n",
    "matplotlib.use('TkAgg')\n",
    "from matplotlib import pyplot as plt\n",
    "\n",
    "from IPython.html.widgets import interact, fixed\n",
    "import ipywidgets as widgets\n",
    "\n",
    "import io\n",
    "\n",
    "font_plt = {'family': 'serif',\n",
    "            'color':  'darkred',\n",
    "            'weight': 'normal',\n",
    "            'size': 10,\n",
    "            }\n",
    "font_plt_ax = {'family': 'serif',\n",
    "               'color':  'black',\n",
    "               'weight': 'normal',\n",
    "               'size': 10,\n",
    "              }\n",
    "import sys\n",
    "import glob #glob is helpful for searching for filenames or directories\n",
    "sys.path.append('E:\\\\Differential-Dynamic-Microscopy---Python')\n",
    "import ddm_clean as ddm #this is the module containing the differential dynamic microscopy code\n",
    "import scipy #scientific python\n",
    "import pickle #for saving data"
   ]
  },
  {
   "cell_type": "markdown",
   "metadata": {},
   "source": [
    "Step 2. Define the framerate, the pixel size and the dimension of the ROI you are going to analyze.\n",
    "** you will also be initializing the newt function, don't worry about it--but we may use it later on in the plotting of data"
   ]
  },
  {
   "cell_type": "code",
   "execution_count": null,
   "metadata": {},
   "outputs": [],
   "source": [
    "newt = lambda t,s: (1./s)*gamma(1./s)*t\n",
    "framerate = 18.0\n",
    "px = 0.194\n",
    "imDimension = 256"
   ]
  },
  {
   "cell_type": "markdown",
   "metadata": {},
   "source": [
    "Step 3. This step is only to be executed at the beginning of the analysis process or at the start of a new video after you have saved the data from the previous. \n",
    "It is very important that you do not run it in the middle of all of your analysis, or each time you run the code because you will lose ALL of you work to that point. \n",
    "\n",
    "This step is to initialize a dictionary that will store all of the relevant information for you.\n",
    "\n",
    "Comment it out after you have initialized it!"
   ]
  },
  {
   "cell_type": "code",
   "execution_count": null,
   "metadata": {},
   "outputs": [],
   "source": [
    "allResults = {} #comment me out after I have been run--or you will be very sorry"
   ]
  },
  {
   "cell_type": "markdown",
   "metadata": {},
   "source": [
    "Step 4. Loading in the FFT file that you want to analyze. For convience, write the ROI number in the variable ROI, and the video number in the video variable. This allows for you to change these once at the beginning of the code and the code will change it for you everywhere else that it is called. Just makes it a bit easier than manually changing the name everywhere it is used!"
   ]
  },
  {
   "cell_type": "code",
   "execution_count": null,
   "metadata": {},
   "outputs": [],
   "source": [
    "ROI = '1024 '\n",
    "video = '1'\n",
    "\n",
    "data_dir = \"E:\\\\NewPaper2stuff\\\\ffts\\\\\"\n",
    "data_file = \"040419_CircularDNA_Actin_18fps_55exp_\"+video+\"_MMStack_Pos0.ome_\"+ROI+\"_256x256_FFTDIFFS_dts_ravs.p\"\n",
    "\n",
    "dat = pickle.load(open(data_dir+data_file,'r'))\n",
    "ravs = dat['ravs'] \n",
    "dts  = dat['dts']\n",
    "ffts = dat['ffts']\n",
    "times = dts/framerate"
   ]
  },
  {
   "cell_type": "markdown",
   "metadata": {},
   "source": [
    "Step 5. (Now we will actually start to look at the data! Woohoo!) We are going to begin by finding the background for the data. It's an arbitraty value, but is important in the analysis because the fitting function is pretty sensitive to initial parameters.\n",
    "\n",
    "We will start by picking a q index that is large. We do this because the data will be mostly a straight line. You will hover your mouse over the middle of the data\n",
    "\n",
    "![Bg_image](DDM_backgroundEx.PNG) \n",
    "\n",
    "So, once you find the value (the poorly drawn black line is an example of where to look) you will enter it back into the variable named backg, and then you will run that section of the code again"
   ]
  },
  {
   "cell_type": "code",
   "execution_count": null,
   "metadata": {},
   "outputs": [],
   "source": [
    "q_index = 60\n",
    "backg = 5250 #change me! \n",
    "\n",
    "pars,minp,maxp,lmin,lmax,fix = ddm.returnReasonableParams(d=ravs[:,q_index],bg=backg, double=False, fps=framerate)\n",
    "plt.plot(times, ravs[:,q_index],'ro') #plot the data\n",
    "#plt.plot(times, ddm.dTheory(times,*pars), '-k', lw=4) #see how well the initial guess performs\n",
    "ax = plt.gca()\n",
    "plt.text(0.8, 0.2, 'Index of q-value: %i' % q_index, horizontalalignment='center', verticalalignment='center', \n",
    "           transform=ax.transAxes, fontdict=font_plt)\n",
    "plt.xlabel('Time (s)');"
   ]
  },
  {
   "cell_type": "markdown",
   "metadata": {},
   "source": [
    "Step 6. Once the background value is set at something that makes sense then run the two_rounds_fitting function which fits the data (the radial averages) to a stretched exponential. We chose a stretched exponential because it fit the data the best. \n",
    "\n",
    "There are a few things to keep in mind here.\n",
    "\n",
    "1. There are really only two initial parameters that you will have to mess with. That is the background and the stretching exponent. Which correspond to pars(2) and pars(3), respectively. \n",
    "2. Initial parameters are important. I usually allow the stretching exponent to vary within a range that makes sense, and I like to fix the background to the value I found in Step 5. \n",
    "3. Sometimes the data might fit a double exponential better and if this is the case you will need to change double=False to double=True.\n",
    "\n",
    "This step will show you 4 different q values and the fits for each of them. Change the parameters (mostly the stretching exponent and the background) until the fits are good enough. \n",
    "\n",
    "Here is an example of some good fits:\n",
    "\n",
    "![Good_fits](DDM_goodfits.PNG)\n"
   ]
  },
  {
   "cell_type": "code",
   "execution_count": null,
   "metadata": {},
   "outputs": [],
   "source": [
    "def two_rounds_fitting(data, times):\n",
    "    '''\n",
    "    This function does two rounds of fitting. \n",
    "    First it uses SciPy's least-squares fitting:\n",
    "        https://docs.scipy.org/doc/scipy/reference/generated/scipy.optimize.leastsq.html\n",
    "    Then, it uses the Levenberg-Marquardt method with the mpfit module. \n",
    "    '''\n",
    "\n",
    "    pars,minp,maxp,lmin,lmax,fix = ddm.returnReasonableParams(d=data, bg=backg, double=False, fps=framerate)\n",
    "    #Paramters:\n",
    "    # Amplitude-0, TimeConst-1, Background-2, Alpha (strtching exp), (... same for second exp..))\n",
    "    \n",
    "    minp[3]=0.1\n",
    "    maxp[3]=.8\n",
    "    pars[3]=.55\n",
    "    \n",
    "    maxp[2]=20000\n",
    "    minp[2]=100\n",
    "    pars[2]=backg# change this to the amplitude of the q fit show in the plot above\n",
    "    \n",
    "\n",
    "    maxp[1] = 1000\n",
    "    minp[1] = 0.001\n",
    "     \n",
    "    maxp[5] = 100\n",
    "    \n",
    "    fix[3]= False #Fix alpha\n",
    "    fix[2]= True #Fix bg\n",
    "    \n",
    "   \n",
    "    fix[6]= False #6 is the stretching exponent for 2nd exponential\n",
    "    pars[6] = 0.6\n",
    "    minp[6] = 0.5 #min alpha2\\n\",\n",
    "    maxp[6] = 0.75   #max alpha2\\n\",\n",
    "    \n",
    "    pars[5] = 0.1*pars[1] #5 is the time const for 2nd exponential\n",
    "    minp[5] = 0.01\n",
    "    '''\n",
    "    #Leave this commented out for single exponential fits\n",
    "    totamp = pars[0]+pars[4] ##0 and 4 are the amplitudes\n",
    "    pars[4] = 0.4*totamp\n",
    "    pars[0] = 0.4*totamp\n",
    "    '''\n",
    "\n",
    "    #The ddm.newFitLeastsq function does not check whether the parameters are within the\n",
    "    #  minimum and maximum bounds. It uses SciPy's optimize.leastsq. \n",
    "    fitparams_lsq,theory_lsq = ddm.newFitLeastsq(data,times,pars,minp,maxp,lmin,lmax,fix,logfit=False)\n",
    "    newPars = fitparams_lsq.copy()\n",
    "    \n",
    "    #We'll use the found parameters from SciPy's optimize.leastsq and feed them into the\n",
    "    #  Levenberg-Marquardt function. Before we do so, we'll check that none of the found\n",
    "    #  parameters are outside the min/max bounds. \n",
    "    for i,p in enumerate(fitparams_lsq):\n",
    "        if p>maxp[i]:\n",
    "            newPars[i] = maxp[i]*0.9\n",
    "        if p<minp[i]:\n",
    "            if p<0:\n",
    "                newPars[i]=abs(p)\n",
    "                if newPars[i]>maxp[i]:\n",
    "                    newPars[i] = maxp[i]*0.9\n",
    "                elif newPars[i]<minp[i]:\n",
    "                    newPars[i] = minp[i]*1.1\n",
    "            else:\n",
    "                newPars[i] = minp[i]*1.1\n",
    "                \n",
    "    #Now use the Levenberg-Marquardt function. It returns the optimized paramters (fitparamsB), the \n",
    "    #  best fit (theoryB), any error codes, and the chi-squared value (the sum of squares of the error)\n",
    "    fitparamsB, theoryB, errCodeB, chi2B = ddm.newFit(data,times,newPars,minp,maxp,lmin,lmax,fix,\n",
    "                                                      logfit=False,quiet=True,factor=0.8)\n",
    "    \n",
    "    return fitparamsB, theoryB, chi2B"
   ]
  },
  {
   "cell_type": "markdown",
   "metadata": {},
   "source": [
    "Step 6 cont. Run this next section to see the fits plotted."
   ]
  },
  {
   "cell_type": "code",
   "execution_count": null,
   "metadata": {},
   "outputs": [],
   "source": [
    "plt.figure(figsize=(11,22)) #Create figure of size 15x15 (inches)\n",
    "\n",
    "q_index = 10  # 10 usually works because it tends to fit well for all types of dynamics\n",
    "end_time = 300  # change this if the data plateaus early, it is where the fitting stops\n",
    "#Loop over four different q-values to do the fit\n",
    "for i,q_index in enumerate([5,10,15,20,25,30,35,40]):\n",
    "    fitparamsB, theoryB, chi2B = two_rounds_fitting(ravs[:end_time,q_index], times[:end_time])\n",
    "    #print len(theoryB)\n",
    "    ax = plt.subplot(4,2,i+1) #creating 4 subplots in a 2x2 grid\n",
    "    ax.semilogx(times,ravs[:,q_index],'ro',alpha=0.4)\n",
    "    ax.plot(times[:len(theoryB)], theoryB, '-b',lw=3)\n",
    "    ax.text(0.35,0.25,'Decay time: %.2f s' % fitparamsB[1], \n",
    "            fontdict=font_plt,horizontalalignment='left', \n",
    "            verticalalignment='center', transform=ax.transAxes)\n",
    "    ax.text(0.35,0.12,'Stretching exponents: %.2f, %.2f' % (fitparamsB[3], fitparamsB[6]), \n",
    "            fontdict=font_plt,horizontalalignment='left', \n",
    "            verticalalignment='center', transform=ax.transAxes)\n",
    "    ax.text(0.35,0.06,'Amptlidue1: %.2f' % (fitparamsB[0]),\n",
    "            fontdict=font_plt,horizontalalignment='left', \n",
    "            verticalalignment='center', transform=ax.transAxes)\n",
    "    ax.set_xlabel(\"Time (s)\", fontdict=font_plt_ax)\n",
    "    ax.set_title(\"Fit for q-index of %i. So q = %.3f 1/$\\mu$m\" % (q_index, q[q_index]), fontdict=font_plt_ax)\n",
    "    print \"bg:\", fitparamsB[2]"
   ]
  },
  {
   "cell_type": "markdown",
   "metadata": {},
   "source": [
    "Step 7. After you have found the initial parameters that result in good lookin' fits you will continue on and have the function run for all spatial frequencies."
   ]
  },
  {
   "cell_type": "code",
   "execution_count": null,
   "metadata": {},
   "outputs": [],
   "source": [
    "fitparams = np.zeros((ravs.shape[1],7))\n",
    "theory = np.zeros((ravs.shape[1],len(times[:end_time])))\n",
    "tau = np.zeros_like(ravs[0,:]) #decay time\n",
    "amp = np.zeros_like(tau) #amplitude\n",
    "bg = np.zeros_like(tau) #background\n",
    "alph = np.zeros_like(tau) #alpha (stretching exponent)\n",
    "amp2 = np.zeros_like(tau) #amplitude\n",
    "tau2 = np.zeros_like(tau) #background\n",
    "alph2 = np.zeros_like(tau) #alpha (stretching exponent)\n",
    "chi2 = np.zeros_like(tau)\n",
    "for i in range(1,len(tau)):\n",
    "    fitparams[i], theory[i], chi2[i] = two_rounds_fitting(ravs[:end_time,i], times[:end_time])\n",
    "    amp[i] = fitparams[i][0]\n",
    "    bg[i] = fitparams[i][2]\n",
    "    tau[i] = fitparams[i][1]\n",
    "    alph[i] = fitparams[i][3]\n",
    "    amp2[i] = fitparams[i][4]\n",
    "    tau2[i] = fitparams[i][5]\n",
    "    alph2[i] = fitparams[i][6]"
   ]
  },
  {
   "cell_type": "markdown",
   "metadata": {},
   "source": [
    "Step 8. Plot the decay times, the amplitude, and the stretching exponent. You can also get a rough estimate of the transport coefficient and the type of dynamics in the same by changing the variable that says diffusion_coeff. "
   ]
  },
  {
   "cell_type": "code",
   "execution_count": null,
   "metadata": {},
   "outputs": [],
   "source": [
    "#Plot the decay time versus the wave vector\n",
    "fig = plt.figure(figsize=(8,8/1.618)); ax = fig.gca(); \n",
    "#ax.loglog(q[3:-1], tau[2:-1], 'ro')\n",
    "qs = q[2:-2]\n",
    "\n",
    "q0=q[2:-31]\n",
    "tau0 = ddm.newt(tau[2:-30],alph[2:-30])\n",
    "#ax.loglog(qs, tau[2:-1], 'ro')\n",
    "ax.loglog(q[2:-31], ddm.newt(tau[2:-30],alph[2:-30]),'bo') # this is for the first exponential\n",
    "#ax.loglog(q[2:-31],tau[2:-30],'ro')\n",
    "#ax.loglog(q[3:-30], ddm.newt(tau2[2:-30],alph2[2:-30]),'ro') # this is for the second\n",
    "#ax.loglog(q[3:-30], tau2[2:-30],'go')\n",
    "\n",
    "ax.set_xlim(0.3,11)\n",
    "ax.set_ylim(0.001,1000)\n",
    "\n",
    "## q^-2, does it look diffusive ?\n",
    "diffusion_coeff = .4 # you can change this to get a rough estimate of the diffusion coef\n",
    "power = 2.0 \n",
    "ax.plot(q[2:-2], (1./diffusion_coeff) * 1./(q[2:-2]**power), '--c', label=\"Diffusive\")\n",
    "\n",
    "\n",
    "## does it fit some other power?\n",
    "adiffusion_coeff = .017\n",
    "power2 = 3\n",
    "ax.plot(q[2:-2], (1./adiffusion_coeff) * 1./(q[2:-2]**power2), '--k')\n",
    "\n",
    "#adiffusion_coeff = 0.018\n",
    "#power2 = 1\n",
    "#ax.plot(q[2:-2], (1./adiffusion_coeff) * 1./(q[2:-2]**power2), '--k')\n",
    "\n",
    "\n",
    "ax.text(0.55,0.15,'D = %.4f um2/s' % diffusion_coeff,\n",
    "        fontdict=font_plt,horizontalalignment='left', \n",
    "        verticalalignment='center', transform=ax.transAxes)\n",
    "ax.set_xlabel(\"q (um^-1)\", fontdict=font_plt_ax)\n",
    "ax.set_ylabel(\"tau (s)\", fontdict=font_plt_ax)\n",
    "#plt.savefig(data_dir+'Plot' + ROI[c] +'.png')\n",
    "#################################################################################################\n",
    "#################################################################################################\n",
    "#Plot the amplitude versus the wave vector\n",
    "\n",
    "fig2 = plt.figure(figsize=(8,8/1.618)); ax = fig2.gca(); \n",
    "ax.loglog(q[2:-2], amp[2:-1], 'ro')\n",
    "ax.loglog(q[2:-2], amp2[2:-1], 'bd')\n",
    "w = amp[2:-1].argmax() #argmax returns the index of the array that has the max value\n",
    "q_for_max_a = q[2:-2][w]\n",
    "ax.loglog(q[2:-2], bg[2:-1], 'gs') #Plot the background versus the wave vector\n",
    "ax.set_xlabel(\"q\", fontdict=font_plt_ax)\n",
    "ax.set_ylabel(\"Amplitude (red); amp2 (red); bg (grn)\", fontdict=font_plt_ax)\n",
    "\n",
    "ax.text(0.2,0.7,'Max A at 1/q = %.3f' % (1.0/q_for_max_a), \n",
    "        fontdict=font_plt,horizontalalignment='left', \n",
    "        verticalalignment='center', transform=ax.transAxes);\n",
    "ax.text(0.2,0.8,'Mean Background = %.3f' % (bg[4:14].mean()), \n",
    "        fontdict=font_plt,horizontalalignment='left', \n",
    "        verticalalignment='center', transform=ax.transAxes);\n",
    "\n",
    "#Plot the str exponent versus the wave vector\n",
    "fig2 = plt.figure(figsize=(8,8/1.618)); ax = fig2.gca(); \n",
    "ax.loglog(q[2:-2], alph[2:-1], 'ro')\n",
    "ax.loglog(q[2:-2], alph2[2:-1], 'bo')\n",
    "ax.set_xlabel(\"q\", fontdict=font_plt_ax)\n",
    "ax.set_ylabel(\"stretching exponent\", fontdict=font_plt_ax)"
   ]
  },
  {
   "cell_type": "markdown",
   "metadata": {},
   "source": [
    "Step 9. If everything looks good. There is a straight line for the decay time verses spatial frequencies then you should save the data into the dictionary you initialized in Step 3. This will be a nice way for you to save everything that is important, uyou will be using it again later on!  "
   ]
  },
  {
   "cell_type": "code",
   "execution_count": null,
   "metadata": {},
   "outputs": [],
   "source": [
    "allResults['fitparams_'+video+'_'+ROI] = fitparams\n",
    "allResults['theory_'+video+'_'+ROI] = theory\n",
    "allResults['chi2_'+video+'_'+ROI] = chi2\n",
    "allResults['ravs_'+video+'_'+ROI] = ravs\n",
    "allResults['dts'] = dts"
   ]
  },
  {
   "cell_type": "markdown",
   "metadata": {},
   "source": [
    "Step 10. Repeat steps 4-9 again until you have analyzed every ROI in the video or have finished all of the videos (let's just stick with ROIs in the video for the time being)."
   ]
  },
  {
   "cell_type": "markdown",
   "metadata": {},
   "source": [
    "Step 11. Once you have saved all of the information into the dictionary above you will want to export and save the dictionary as a '.p' file. Make sure to save two of the same files, just in case you accidently overwrite one later on--cover all of your bases."
   ]
  },
  {
   "cell_type": "code",
   "execution_count": null,
   "metadata": {},
   "outputs": [],
   "source": [
    "pickle.dump(allResults, open('Z:\\\\Wherever_you_are_planning_on_putting_these_files\\\\allResults_the_video_number_and_other_info_date_1.p','wb'))\n",
    "pickle.dump(allResults, open('Z:\\\\Wherever_you_are_planning_on_putting_these_files\\\\allResults_the_video_number_and_other_info_date_2.p','wb'))"
   ]
  }
 ],
 "metadata": {
  "kernelspec": {
   "display_name": "Python 2",
   "language": "python",
   "name": "python2"
  },
  "language_info": {
   "codemirror_mode": {
    "name": "ipython",
    "version": 2
   },
   "file_extension": ".py",
   "mimetype": "text/x-python",
   "name": "python",
   "nbconvert_exporter": "python",
   "pygments_lexer": "ipython2",
   "version": "2.7.15"
  }
 },
 "nbformat": 4,
 "nbformat_minor": 2
}
